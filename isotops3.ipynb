{
 "cells": [
  {
   "cell_type": "markdown",
   "metadata": {},
   "source": [
    "# Задача № 2\n",
    "## Измерение радиоактивности с использованием жидкостных сцинтиляционных счетчиков (одиночная метка)\n",
    "#### Выполнил студент 320 группы Чичварин Владимир"
   ]
  },
  {
   "cell_type": "code",
   "execution_count": 1,
   "metadata": {},
   "outputs": [],
   "source": [
    "import pandas as pd\n",
    "from sklearn.linear_model import LinearRegression\n",
    "from sklearn.preprocessing import PolynomialFeatures\n",
    "from sklearn.pipeline import make_pipeline\n",
    "from sklearn.linear_model import Ridge\n",
    "import numpy as np\n",
    "import matplotlib.pyplot as plt\n",
    "%matplotlib inline\n",
    "pd.options.mode.chained_assignment = None"
   ]
  },
  {
   "cell_type": "markdown",
   "metadata": {},
   "source": [
    "Результаты измерений серий стандартных образцов изотопов 3Н и 14С по программе счета одиночной метки (для построения поправочных кривых гашения)."
   ]
  },
  {
   "cell_type": "markdown",
   "metadata": {},
   "source": [
    "Для образцов с 14С (DPM14С=212000):"
   ]
  },
  {
   "cell_type": "code",
   "execution_count": 2,
   "metadata": {},
   "outputs": [
    {
     "data": {
      "text/html": [
       "<div>\n",
       "<style scoped>\n",
       "    .dataframe tbody tr th:only-of-type {\n",
       "        vertical-align: middle;\n",
       "    }\n",
       "\n",
       "    .dataframe tbody tr th {\n",
       "        vertical-align: top;\n",
       "    }\n",
       "\n",
       "    .dataframe thead th {\n",
       "        text-align: right;\n",
       "    }\n",
       "</style>\n",
       "<table border=\"1\" class=\"dataframe\">\n",
       "  <thead>\n",
       "    <tr style=\"text-align: right;\">\n",
       "      <th></th>\n",
       "      <th>TIME</th>\n",
       "      <th>CPMA</th>\n",
       "      <th>SIS</th>\n",
       "      <th>tSIE</th>\n",
       "    </tr>\n",
       "    <tr>\n",
       "      <th>POS</th>\n",
       "      <th></th>\n",
       "      <th></th>\n",
       "      <th></th>\n",
       "      <th></th>\n",
       "    </tr>\n",
       "  </thead>\n",
       "  <tbody>\n",
       "    <tr>\n",
       "      <th>1</th>\n",
       "      <td>1</td>\n",
       "      <td>194803</td>\n",
       "      <td>119.55</td>\n",
       "      <td>730.66</td>\n",
       "    </tr>\n",
       "    <tr>\n",
       "      <th>2</th>\n",
       "      <td>1</td>\n",
       "      <td>189424</td>\n",
       "      <td>90.22</td>\n",
       "      <td>548.10</td>\n",
       "    </tr>\n",
       "    <tr>\n",
       "      <th>3</th>\n",
       "      <td>1</td>\n",
       "      <td>183486</td>\n",
       "      <td>70.19</td>\n",
       "      <td>422.82</td>\n",
       "    </tr>\n",
       "    <tr>\n",
       "      <th>4</th>\n",
       "      <td>1</td>\n",
       "      <td>175058</td>\n",
       "      <td>52.60</td>\n",
       "      <td>313.36</td>\n",
       "    </tr>\n",
       "    <tr>\n",
       "      <th>5</th>\n",
       "      <td>1</td>\n",
       "      <td>159448</td>\n",
       "      <td>38.70</td>\n",
       "      <td>221.33</td>\n",
       "    </tr>\n",
       "    <tr>\n",
       "      <th>6</th>\n",
       "      <td>1</td>\n",
       "      <td>138437</td>\n",
       "      <td>27.71</td>\n",
       "      <td>151.95</td>\n",
       "    </tr>\n",
       "    <tr>\n",
       "      <th>7</th>\n",
       "      <td>1</td>\n",
       "      <td>109166</td>\n",
       "      <td>20.15</td>\n",
       "      <td>105.27</td>\n",
       "    </tr>\n",
       "    <tr>\n",
       "      <th>8</th>\n",
       "      <td>1</td>\n",
       "      <td>72652</td>\n",
       "      <td>14.92</td>\n",
       "      <td>72.65</td>\n",
       "    </tr>\n",
       "  </tbody>\n",
       "</table>\n",
       "</div>"
      ],
      "text/plain": [
       "     TIME    CPMA     SIS    tSIE\n",
       "POS                              \n",
       "1       1  194803  119.55  730.66\n",
       "2       1  189424   90.22  548.10\n",
       "3       1  183486   70.19  422.82\n",
       "4       1  175058   52.60  313.36\n",
       "5       1  159448   38.70  221.33\n",
       "6       1  138437   27.71  151.95\n",
       "7       1  109166   20.15  105.27\n",
       "8       1   72652   14.92   72.65"
      ]
     },
     "execution_count": 2,
     "metadata": {},
     "output_type": "execute_result"
    }
   ],
   "source": [
    "# Для образцов с 14С (DPM14С=212000):\n",
    "c_14_df = pd.DataFrame.from_dict({'POS':[1,2,3,4,5,6,7,8], 'TIME':[1,1,1,1,1,1,1,1], 'CPMA':[194803,189424,183486,175058,159448,138437,109166,72652], 'SIS':[119.55,90.22,70.19,52.6,38.7,27.71,20.15,14.92], 'tSIE':[730.66,548.1,422.82,313.36,221.33,151.95,105.27,72.65]}).set_index('POS')\n",
    "c_14_df"
   ]
  },
  {
   "cell_type": "markdown",
   "metadata": {},
   "source": [
    "Для образцов с 3Н (DPM3Н=56756)"
   ]
  },
  {
   "cell_type": "code",
   "execution_count": 3,
   "metadata": {},
   "outputs": [
    {
     "data": {
      "text/html": [
       "<div>\n",
       "<style scoped>\n",
       "    .dataframe tbody tr th:only-of-type {\n",
       "        vertical-align: middle;\n",
       "    }\n",
       "\n",
       "    .dataframe tbody tr th {\n",
       "        vertical-align: top;\n",
       "    }\n",
       "\n",
       "    .dataframe thead th {\n",
       "        text-align: right;\n",
       "    }\n",
       "</style>\n",
       "<table border=\"1\" class=\"dataframe\">\n",
       "  <thead>\n",
       "    <tr style=\"text-align: right;\">\n",
       "      <th></th>\n",
       "      <th>TIME</th>\n",
       "      <th>CPMA</th>\n",
       "      <th>SIS</th>\n",
       "      <th>tSIE</th>\n",
       "    </tr>\n",
       "    <tr>\n",
       "      <th>POS</th>\n",
       "      <th></th>\n",
       "      <th></th>\n",
       "      <th></th>\n",
       "      <th></th>\n",
       "    </tr>\n",
       "  </thead>\n",
       "  <tbody>\n",
       "    <tr>\n",
       "      <th>1</th>\n",
       "      <td>1</td>\n",
       "      <td>34781</td>\n",
       "      <td>18.53</td>\n",
       "      <td>834.04</td>\n",
       "    </tr>\n",
       "    <tr>\n",
       "      <th>2</th>\n",
       "      <td>1</td>\n",
       "      <td>28523</td>\n",
       "      <td>13.88</td>\n",
       "      <td>545.02</td>\n",
       "    </tr>\n",
       "    <tr>\n",
       "      <th>3</th>\n",
       "      <td>1</td>\n",
       "      <td>17988</td>\n",
       "      <td>10.84</td>\n",
       "      <td>293.13</td>\n",
       "    </tr>\n",
       "    <tr>\n",
       "      <th>4</th>\n",
       "      <td>1</td>\n",
       "      <td>18051</td>\n",
       "      <td>10.95</td>\n",
       "      <td>292.56</td>\n",
       "    </tr>\n",
       "    <tr>\n",
       "      <th>5</th>\n",
       "      <td>1</td>\n",
       "      <td>12742</td>\n",
       "      <td>9.12</td>\n",
       "      <td>205.68</td>\n",
       "    </tr>\n",
       "    <tr>\n",
       "      <th>6</th>\n",
       "      <td>1</td>\n",
       "      <td>7596</td>\n",
       "      <td>7.85</td>\n",
       "      <td>135.53</td>\n",
       "    </tr>\n",
       "    <tr>\n",
       "      <th>7</th>\n",
       "      <td>1</td>\n",
       "      <td>5123</td>\n",
       "      <td>8.70</td>\n",
       "      <td>120.34</td>\n",
       "    </tr>\n",
       "    <tr>\n",
       "      <th>8</th>\n",
       "      <td>1</td>\n",
       "      <td>2451</td>\n",
       "      <td>8.46</td>\n",
       "      <td>66.93</td>\n",
       "    </tr>\n",
       "  </tbody>\n",
       "</table>\n",
       "</div>"
      ],
      "text/plain": [
       "     TIME   CPMA    SIS    tSIE\n",
       "POS                            \n",
       "1       1  34781  18.53  834.04\n",
       "2       1  28523  13.88  545.02\n",
       "3       1  17988  10.84  293.13\n",
       "4       1  18051  10.95  292.56\n",
       "5       1  12742   9.12  205.68\n",
       "6       1   7596   7.85  135.53\n",
       "7       1   5123   8.70  120.34\n",
       "8       1   2451   8.46   66.93"
      ]
     },
     "execution_count": 3,
     "metadata": {},
     "output_type": "execute_result"
    }
   ],
   "source": [
    "# Для образцов с 3Н (DPM3Н=56756)\n",
    "h_3_df = pd.DataFrame.from_dict({'POS':[1,2,3,4,5,6,7,8], 'TIME':[1,1,1,1,1,1,1,1], 'CPMA':[34781,28523,17988,18051,12742,7596,5123,2451], 'SIS':[18.53,13.88,10.84,10.95,9.12,7.85,8.7,8.46], 'tSIE':[834.04,545.02,293.13,292.56,205.68,135.53,120.34,66.93]}).set_index('POS')\n",
    "h_3_df"
   ]
  },
  {
   "cell_type": "markdown",
   "metadata": {},
   "source": [
    "Таблица кривой гашения для углерода:"
   ]
  },
  {
   "cell_type": "code",
   "execution_count": 4,
   "metadata": {},
   "outputs": [
    {
     "data": {
      "text/html": [
       "<div>\n",
       "<style scoped>\n",
       "    .dataframe tbody tr th:only-of-type {\n",
       "        vertical-align: middle;\n",
       "    }\n",
       "\n",
       "    .dataframe tbody tr th {\n",
       "        vertical-align: top;\n",
       "    }\n",
       "\n",
       "    .dataframe thead th {\n",
       "        text-align: right;\n",
       "    }\n",
       "</style>\n",
       "<table border=\"1\" class=\"dataframe\">\n",
       "  <thead>\n",
       "    <tr style=\"text-align: right;\">\n",
       "      <th></th>\n",
       "      <th>CPMA</th>\n",
       "      <th>E</th>\n",
       "      <th>tSIE</th>\n",
       "    </tr>\n",
       "    <tr>\n",
       "      <th>POS</th>\n",
       "      <th></th>\n",
       "      <th></th>\n",
       "      <th></th>\n",
       "    </tr>\n",
       "  </thead>\n",
       "  <tbody>\n",
       "    <tr>\n",
       "      <th>1</th>\n",
       "      <td>194803</td>\n",
       "      <td>0.918882</td>\n",
       "      <td>730.66</td>\n",
       "    </tr>\n",
       "    <tr>\n",
       "      <th>2</th>\n",
       "      <td>189424</td>\n",
       "      <td>0.893509</td>\n",
       "      <td>548.10</td>\n",
       "    </tr>\n",
       "    <tr>\n",
       "      <th>3</th>\n",
       "      <td>183486</td>\n",
       "      <td>0.865500</td>\n",
       "      <td>422.82</td>\n",
       "    </tr>\n",
       "    <tr>\n",
       "      <th>4</th>\n",
       "      <td>175058</td>\n",
       "      <td>0.825745</td>\n",
       "      <td>313.36</td>\n",
       "    </tr>\n",
       "    <tr>\n",
       "      <th>5</th>\n",
       "      <td>159448</td>\n",
       "      <td>0.752113</td>\n",
       "      <td>221.33</td>\n",
       "    </tr>\n",
       "    <tr>\n",
       "      <th>6</th>\n",
       "      <td>138437</td>\n",
       "      <td>0.653005</td>\n",
       "      <td>151.95</td>\n",
       "    </tr>\n",
       "    <tr>\n",
       "      <th>7</th>\n",
       "      <td>109166</td>\n",
       "      <td>0.514934</td>\n",
       "      <td>105.27</td>\n",
       "    </tr>\n",
       "    <tr>\n",
       "      <th>8</th>\n",
       "      <td>72652</td>\n",
       "      <td>0.342698</td>\n",
       "      <td>72.65</td>\n",
       "    </tr>\n",
       "  </tbody>\n",
       "</table>\n",
       "</div>"
      ],
      "text/plain": [
       "       CPMA         E    tSIE\n",
       "POS                          \n",
       "1    194803  0.918882  730.66\n",
       "2    189424  0.893509  548.10\n",
       "3    183486  0.865500  422.82\n",
       "4    175058  0.825745  313.36\n",
       "5    159448  0.752113  221.33\n",
       "6    138437  0.653005  151.95\n",
       "7    109166  0.514934  105.27\n",
       "8     72652  0.342698   72.65"
      ]
     },
     "execution_count": 4,
     "metadata": {},
     "output_type": "execute_result"
    }
   ],
   "source": [
    "# Таблица кривой гашения для углерода:\n",
    "c_gash = c_14_df[['CPMA' ]]\n",
    "c_gash['E'] = c_14_df['CPMA'] / 212000 \n",
    "c_gash['tSIE'] = c_14_df['tSIE']\n",
    "c_gash"
   ]
  },
  {
   "cell_type": "markdown",
   "metadata": {},
   "source": [
    "Таблица кривой гашения для водорода:"
   ]
  },
  {
   "cell_type": "code",
   "execution_count": 5,
   "metadata": {},
   "outputs": [
    {
     "data": {
      "text/html": [
       "<div>\n",
       "<style scoped>\n",
       "    .dataframe tbody tr th:only-of-type {\n",
       "        vertical-align: middle;\n",
       "    }\n",
       "\n",
       "    .dataframe tbody tr th {\n",
       "        vertical-align: top;\n",
       "    }\n",
       "\n",
       "    .dataframe thead th {\n",
       "        text-align: right;\n",
       "    }\n",
       "</style>\n",
       "<table border=\"1\" class=\"dataframe\">\n",
       "  <thead>\n",
       "    <tr style=\"text-align: right;\">\n",
       "      <th></th>\n",
       "      <th>CPMA</th>\n",
       "      <th>E</th>\n",
       "      <th>tSIE</th>\n",
       "    </tr>\n",
       "    <tr>\n",
       "      <th>POS</th>\n",
       "      <th></th>\n",
       "      <th></th>\n",
       "      <th></th>\n",
       "    </tr>\n",
       "  </thead>\n",
       "  <tbody>\n",
       "    <tr>\n",
       "      <th>1</th>\n",
       "      <td>34781</td>\n",
       "      <td>0.612816</td>\n",
       "      <td>834.04</td>\n",
       "    </tr>\n",
       "    <tr>\n",
       "      <th>2</th>\n",
       "      <td>28523</td>\n",
       "      <td>0.502555</td>\n",
       "      <td>545.02</td>\n",
       "    </tr>\n",
       "    <tr>\n",
       "      <th>3</th>\n",
       "      <td>17988</td>\n",
       "      <td>0.316936</td>\n",
       "      <td>293.13</td>\n",
       "    </tr>\n",
       "    <tr>\n",
       "      <th>4</th>\n",
       "      <td>18051</td>\n",
       "      <td>0.318046</td>\n",
       "      <td>292.56</td>\n",
       "    </tr>\n",
       "    <tr>\n",
       "      <th>5</th>\n",
       "      <td>12742</td>\n",
       "      <td>0.224505</td>\n",
       "      <td>205.68</td>\n",
       "    </tr>\n",
       "    <tr>\n",
       "      <th>6</th>\n",
       "      <td>7596</td>\n",
       "      <td>0.133836</td>\n",
       "      <td>135.53</td>\n",
       "    </tr>\n",
       "    <tr>\n",
       "      <th>7</th>\n",
       "      <td>5123</td>\n",
       "      <td>0.090264</td>\n",
       "      <td>120.34</td>\n",
       "    </tr>\n",
       "    <tr>\n",
       "      <th>8</th>\n",
       "      <td>2451</td>\n",
       "      <td>0.043185</td>\n",
       "      <td>66.93</td>\n",
       "    </tr>\n",
       "  </tbody>\n",
       "</table>\n",
       "</div>"
      ],
      "text/plain": [
       "      CPMA         E    tSIE\n",
       "POS                         \n",
       "1    34781  0.612816  834.04\n",
       "2    28523  0.502555  545.02\n",
       "3    17988  0.316936  293.13\n",
       "4    18051  0.318046  292.56\n",
       "5    12742  0.224505  205.68\n",
       "6     7596  0.133836  135.53\n",
       "7     5123  0.090264  120.34\n",
       "8     2451  0.043185   66.93"
      ]
     },
     "execution_count": 5,
     "metadata": {},
     "output_type": "execute_result"
    }
   ],
   "source": [
    "# Таблица кривой гашения для водорода:\n",
    "h_gash = h_3_df[['CPMA' ]]\n",
    "h_gash['E'] = h_3_df['CPMA'] / 56756\n",
    "h_gash['tSIE'] = h_3_df['tSIE']\n",
    "h_gash"
   ]
  },
  {
   "cell_type": "code",
   "execution_count": 6,
   "metadata": {
    "jupyter": {
     "source_hidden": true
    }
   },
   "outputs": [
    {
     "data": {
      "image/png": "[encoded data removed]",
      "text/plain": [
       "<Figure size 432x288 with 1 Axes>"
      ]
     },
     "metadata": {
      "needs_background": "light"
     },
     "output_type": "display_data"
    }
   ],
   "source": [
    "fig, ax = plt.subplots()\n",
    "plt.plot(c_gash['tSIE'], c_gash['E'])\n",
    "plt.title('Кривая гашения для углерода')\n",
    "plt.xlabel('tSIE')\n",
    "plt.ylabel('E')\n",
    "plt.grid()\n",
    "plt.show()"
   ]
  },
  {
   "cell_type": "code",
   "execution_count": 7,
   "metadata": {
    "jupyter": {
     "source_hidden": true
    }
   },
   "outputs": [
    {
     "data": {
      "image/png": "[encoded data removed]",
      "text/plain": [
       "<Figure size 432x288 with 1 Axes>"
      ]
     },
     "metadata": {
      "needs_background": "light"
     },
     "output_type": "display_data"
    }
   ],
   "source": [
    "fig, ax = plt.subplots()\n",
    "plt.plot(h_gash['tSIE'], h_gash['E'])\n",
    "plt.title('Кривая гашения для водорода')\n",
    "plt.xlabel('tSIE')\n",
    "plt.ylabel('E')\n",
    "plt.grid()\n",
    "plt.show()"
   ]
  },
  {
   "cell_type": "code",
   "execution_count": 8,
   "metadata": {},
   "outputs": [
    {
     "data": {
      "text/html": [
       "<div>\n",
       "<style scoped>\n",
       "    .dataframe tbody tr th:only-of-type {\n",
       "        vertical-align: middle;\n",
       "    }\n",
       "\n",
       "    .dataframe tbody tr th {\n",
       "        vertical-align: top;\n",
       "    }\n",
       "\n",
       "    .dataframe thead th {\n",
       "        text-align: right;\n",
       "    }\n",
       "</style>\n",
       "<table border=\"1\" class=\"dataframe\">\n",
       "  <thead>\n",
       "    <tr style=\"text-align: right;\">\n",
       "      <th></th>\n",
       "      <th>CPMA</th>\n",
       "      <th>tSIE</th>\n",
       "      <th>E</th>\n",
       "      <th>DPM</th>\n",
       "    </tr>\n",
       "    <tr>\n",
       "      <th>POS</th>\n",
       "      <th></th>\n",
       "      <th></th>\n",
       "      <th></th>\n",
       "      <th></th>\n",
       "    </tr>\n",
       "  </thead>\n",
       "  <tbody>\n",
       "    <tr>\n",
       "      <th>1</th>\n",
       "      <td>6927</td>\n",
       "      <td>317.58</td>\n",
       "      <td>0.34</td>\n",
       "      <td>20595.46</td>\n",
       "    </tr>\n",
       "    <tr>\n",
       "      <th>2</th>\n",
       "      <td>6818</td>\n",
       "      <td>318.18</td>\n",
       "      <td>0.34</td>\n",
       "      <td>20236.22</td>\n",
       "    </tr>\n",
       "    <tr>\n",
       "      <th>3</th>\n",
       "      <td>8670</td>\n",
       "      <td>449.21</td>\n",
       "      <td>0.45</td>\n",
       "      <td>19280.81</td>\n",
       "    </tr>\n",
       "    <tr>\n",
       "      <th>4</th>\n",
       "      <td>8981</td>\n",
       "      <td>450.12</td>\n",
       "      <td>0.45</td>\n",
       "      <td>19942.29</td>\n",
       "    </tr>\n",
       "  </tbody>\n",
       "</table>\n",
       "</div>"
      ],
      "text/plain": [
       "     CPMA    tSIE     E       DPM\n",
       "POS                              \n",
       "1    6927  317.58  0.34  20595.46\n",
       "2    6818  318.18  0.34  20236.22\n",
       "3    8670  449.21  0.45  19280.81\n",
       "4    8981  450.12  0.45  19942.29"
      ]
     },
     "execution_count": 8,
     "metadata": {},
     "output_type": "execute_result"
    }
   ],
   "source": [
    "# Данные для проб, содержащие одиночную метку 3H, с разной степенью гашения:\n",
    "X = np.array(h_gash['tSIE']).reshape(-1,1)\n",
    "model = make_pipeline(PolynomialFeatures(2), Ridge())\n",
    "model.fit(X, h_gash['E'])\n",
    "table_h = pd.DataFrame.from_dict({'POS':[1,2,3,4], 'CPMA':[6927,6818,8670,8981], 'tSIE':[317.58, 318.18, 449.21, 450.12]}).set_index('POS')\n",
    "table_h['E'] =  model.predict(np.array(table_h['tSIE']).reshape(-1,1))#reg.predict(poly.transform(np.array(table_h['tSIE']).reshape(-1,1)))\n",
    "table_h['DPM'] = table_h['CPMA'] / table_h['E']\n",
    "round(table_h, 2)"
   ]
  },
  {
   "cell_type": "markdown",
   "metadata": {},
   "source": [
    "DPM среднее по 3H:"
   ]
  },
  {
   "cell_type": "code",
   "execution_count": 9,
   "metadata": {},
   "outputs": [
    {
     "data": {
      "text/plain": [
       "20013.7"
      ]
     },
     "execution_count": 9,
     "metadata": {},
     "output_type": "execute_result"
    }
   ],
   "source": [
    "# DPM среднее по 3H:\n",
    "round(table_h['DPM'].mean(),2)"
   ]
  },
  {
   "cell_type": "markdown",
   "metadata": {},
   "source": [
    "Данные для проб, содержащие одиночную метку 14C, с разной степенью гашения:"
   ]
  },
  {
   "cell_type": "code",
   "execution_count": 10,
   "metadata": {
    "jupyter": {
     "source_hidden": true
    }
   },
   "outputs": [
    {
     "data": {
      "text/html": [
       "<div>\n",
       "<style scoped>\n",
       "    .dataframe tbody tr th:only-of-type {\n",
       "        vertical-align: middle;\n",
       "    }\n",
       "\n",
       "    .dataframe tbody tr th {\n",
       "        vertical-align: top;\n",
       "    }\n",
       "\n",
       "    .dataframe thead th {\n",
       "        text-align: right;\n",
       "    }\n",
       "</style>\n",
       "<table border=\"1\" class=\"dataframe\">\n",
       "  <thead>\n",
       "    <tr style=\"text-align: right;\">\n",
       "      <th></th>\n",
       "      <th>CPMA</th>\n",
       "      <th>tSIE</th>\n",
       "      <th>E</th>\n",
       "      <th>DPM</th>\n",
       "    </tr>\n",
       "    <tr>\n",
       "      <th>POS</th>\n",
       "      <th></th>\n",
       "      <th></th>\n",
       "      <th></th>\n",
       "      <th></th>\n",
       "    </tr>\n",
       "  </thead>\n",
       "  <tbody>\n",
       "    <tr>\n",
       "      <th>1</th>\n",
       "      <td>5797</td>\n",
       "      <td>313.02</td>\n",
       "      <td>0.81</td>\n",
       "      <td>7128.63</td>\n",
       "    </tr>\n",
       "    <tr>\n",
       "      <th>2</th>\n",
       "      <td>5801</td>\n",
       "      <td>314.27</td>\n",
       "      <td>0.81</td>\n",
       "      <td>7121.90</td>\n",
       "    </tr>\n",
       "    <tr>\n",
       "      <th>3</th>\n",
       "      <td>6173</td>\n",
       "      <td>449.21</td>\n",
       "      <td>0.92</td>\n",
       "      <td>6718.58</td>\n",
       "    </tr>\n",
       "    <tr>\n",
       "      <th>4</th>\n",
       "      <td>6205</td>\n",
       "      <td>450.12</td>\n",
       "      <td>0.92</td>\n",
       "      <td>6750.19</td>\n",
       "    </tr>\n",
       "  </tbody>\n",
       "</table>\n",
       "</div>"
      ],
      "text/plain": [
       "     CPMA    tSIE     E      DPM\n",
       "POS                             \n",
       "1    5797  313.02  0.81  7128.63\n",
       "2    5801  314.27  0.81  7121.90\n",
       "3    6173  449.21  0.92  6718.58\n",
       "4    6205  450.12  0.92  6750.19"
      ]
     },
     "execution_count": 10,
     "metadata": {},
     "output_type": "execute_result"
    }
   ],
   "source": [
    "# Данные для проб, содержащие одиночную метку 14C, с разной степенью гашения:\n",
    "X = np.array(c_gash['tSIE']).reshape(-1,1)\n",
    "model = make_pipeline(PolynomialFeatures(2), Ridge())\n",
    "model.fit(X, c_gash['E'])\n",
    "table_c = pd.DataFrame.from_dict({'POS':[1,2,3,4], 'CPMA':[5797,5801,6173,6205], 'tSIE':[313.02,314.27,449.21,450.12]}).set_index('POS')\n",
    "table_c['E'] = model.predict(np.array(table_c['tSIE']).reshape(-1,1))\n",
    "table_c['DPM'] = table_c['CPMA'] / table_c['E'] \n",
    "round(table_c,2)"
   ]
  },
  {
   "cell_type": "markdown",
   "metadata": {},
   "source": [
    "DPM среднее по 14C:"
   ]
  },
  {
   "cell_type": "code",
   "execution_count": 11,
   "metadata": {
    "jupyter": {
     "source_hidden": true
    }
   },
   "outputs": [
    {
     "data": {
      "text/plain": [
       "6929.82"
      ]
     },
     "execution_count": 11,
     "metadata": {},
     "output_type": "execute_result"
    }
   ],
   "source": [
    "# DPM среднее по 14C:\n",
    "round(table_c['DPM'].mean(),2)"
   ]
  },
  {
   "cell_type": "markdown",
   "metadata": {},
   "source": [
    "* Влияет ли гашение на величину истинной активности? Нет, согласно учебнику истиная активность - это количество распадов в минуту, гашение же -снижение доли энергии, преобразуемой во вспышку, регистрируемую прибором\n",
    "* Влияет ли гашение на величину относительной активности? Да, согласно учебнику относительная активность - это количество зарегистрированных распадов в минуту"
   ]
  },
  {
   "cell_type": "code",
   "execution_count": 12,
   "metadata": {
    "jupyter": {
     "source_hidden": true
    }
   },
   "outputs": [],
   "source": [
    "# Перевод в беккерели - поскольку мы узнали число произошедших распадов и время было равно минуте:\n",
    "c_bek = table_c['DPM'] / 60 \n",
    "c_kur = c_bek / (3.7 * 10 ** 4)\n",
    "h_bek = table_h['DPM'] / 60\n",
    "h_kur = h_bek / (3.7 * 10 ** 4)"
   ]
  },
  {
   "cell_type": "markdown",
   "metadata": {},
   "source": [
    "Активность углерода в беккерелях:"
   ]
  },
  {
   "cell_type": "code",
   "execution_count": 13,
   "metadata": {
    "jupyter": {
     "source_hidden": true
    }
   },
   "outputs": [
    {
     "data": {
      "text/html": [
       "<div>\n",
       "<style scoped>\n",
       "    .dataframe tbody tr th:only-of-type {\n",
       "        vertical-align: middle;\n",
       "    }\n",
       "\n",
       "    .dataframe tbody tr th {\n",
       "        vertical-align: top;\n",
       "    }\n",
       "\n",
       "    .dataframe thead th {\n",
       "        text-align: right;\n",
       "    }\n",
       "</style>\n",
       "<table border=\"1\" class=\"dataframe\">\n",
       "  <thead>\n",
       "    <tr style=\"text-align: right;\">\n",
       "      <th></th>\n",
       "      <th>Беккерели</th>\n",
       "    </tr>\n",
       "    <tr>\n",
       "      <th>POS</th>\n",
       "      <th></th>\n",
       "    </tr>\n",
       "  </thead>\n",
       "  <tbody>\n",
       "    <tr>\n",
       "      <th>1</th>\n",
       "      <td>118.81</td>\n",
       "    </tr>\n",
       "    <tr>\n",
       "      <th>2</th>\n",
       "      <td>118.70</td>\n",
       "    </tr>\n",
       "    <tr>\n",
       "      <th>3</th>\n",
       "      <td>111.98</td>\n",
       "    </tr>\n",
       "    <tr>\n",
       "      <th>4</th>\n",
       "      <td>112.50</td>\n",
       "    </tr>\n",
       "  </tbody>\n",
       "</table>\n",
       "</div>"
      ],
      "text/plain": [
       "     Беккерели\n",
       "POS           \n",
       "1       118.81\n",
       "2       118.70\n",
       "3       111.98\n",
       "4       112.50"
      ]
     },
     "execution_count": 13,
     "metadata": {},
     "output_type": "execute_result"
    }
   ],
   "source": [
    "# Активность углерода в беккерелях:\n",
    "round(pd.DataFrame(c_bek),2).rename(columns={'DPM':'Беккерели'})"
   ]
  },
  {
   "cell_type": "markdown",
   "metadata": {},
   "source": [
    "Активность углерода в микрокюри:"
   ]
  },
  {
   "cell_type": "code",
   "execution_count": 14,
   "metadata": {
    "jupyter": {
     "source_hidden": true
    }
   },
   "outputs": [
    {
     "data": {
      "text/html": [
       "<div>\n",
       "<style scoped>\n",
       "    .dataframe tbody tr th:only-of-type {\n",
       "        vertical-align: middle;\n",
       "    }\n",
       "\n",
       "    .dataframe tbody tr th {\n",
       "        vertical-align: top;\n",
       "    }\n",
       "\n",
       "    .dataframe thead th {\n",
       "        text-align: right;\n",
       "    }\n",
       "</style>\n",
       "<table border=\"1\" class=\"dataframe\">\n",
       "  <thead>\n",
       "    <tr style=\"text-align: right;\">\n",
       "      <th></th>\n",
       "      <th>Микрокюри</th>\n",
       "    </tr>\n",
       "    <tr>\n",
       "      <th>POS</th>\n",
       "      <th></th>\n",
       "    </tr>\n",
       "  </thead>\n",
       "  <tbody>\n",
       "    <tr>\n",
       "      <th>1</th>\n",
       "      <td>0.003211</td>\n",
       "    </tr>\n",
       "    <tr>\n",
       "      <th>2</th>\n",
       "      <td>0.003208</td>\n",
       "    </tr>\n",
       "    <tr>\n",
       "      <th>3</th>\n",
       "      <td>0.003026</td>\n",
       "    </tr>\n",
       "    <tr>\n",
       "      <th>4</th>\n",
       "      <td>0.003041</td>\n",
       "    </tr>\n",
       "  </tbody>\n",
       "</table>\n",
       "</div>"
      ],
      "text/plain": [
       "     Микрокюри\n",
       "POS           \n",
       "1     0.003211\n",
       "2     0.003208\n",
       "3     0.003026\n",
       "4     0.003041"
      ]
     },
     "execution_count": 14,
     "metadata": {},
     "output_type": "execute_result"
    }
   ],
   "source": [
    "# Активность углерода в микрокюри:\n",
    "pd.DataFrame(c_kur).rename(columns={'DPM':'Микрокюри'})"
   ]
  },
  {
   "cell_type": "markdown",
   "metadata": {},
   "source": [
    "Активность водорода в беккерелях:"
   ]
  },
  {
   "cell_type": "code",
   "execution_count": 15,
   "metadata": {
    "jupyter": {
     "source_hidden": true
    }
   },
   "outputs": [
    {
     "data": {
      "text/html": [
       "<div>\n",
       "<style scoped>\n",
       "    .dataframe tbody tr th:only-of-type {\n",
       "        vertical-align: middle;\n",
       "    }\n",
       "\n",
       "    .dataframe tbody tr th {\n",
       "        vertical-align: top;\n",
       "    }\n",
       "\n",
       "    .dataframe thead th {\n",
       "        text-align: right;\n",
       "    }\n",
       "</style>\n",
       "<table border=\"1\" class=\"dataframe\">\n",
       "  <thead>\n",
       "    <tr style=\"text-align: right;\">\n",
       "      <th></th>\n",
       "      <th>Беккерели</th>\n",
       "    </tr>\n",
       "    <tr>\n",
       "      <th>POS</th>\n",
       "      <th></th>\n",
       "    </tr>\n",
       "  </thead>\n",
       "  <tbody>\n",
       "    <tr>\n",
       "      <th>1</th>\n",
       "      <td>343.26</td>\n",
       "    </tr>\n",
       "    <tr>\n",
       "      <th>2</th>\n",
       "      <td>337.27</td>\n",
       "    </tr>\n",
       "    <tr>\n",
       "      <th>3</th>\n",
       "      <td>321.35</td>\n",
       "    </tr>\n",
       "    <tr>\n",
       "      <th>4</th>\n",
       "      <td>332.37</td>\n",
       "    </tr>\n",
       "  </tbody>\n",
       "</table>\n",
       "</div>"
      ],
      "text/plain": [
       "     Беккерели\n",
       "POS           \n",
       "1       343.26\n",
       "2       337.27\n",
       "3       321.35\n",
       "4       332.37"
      ]
     },
     "execution_count": 15,
     "metadata": {},
     "output_type": "execute_result"
    }
   ],
   "source": [
    "# Активность водорода в беккерелях:\n",
    "round(pd.DataFrame(h_bek),2).rename(columns={'DPM':'Беккерели'})"
   ]
  },
  {
   "cell_type": "markdown",
   "metadata": {},
   "source": [
    "Активность водорода в микрокюри:"
   ]
  },
  {
   "cell_type": "code",
   "execution_count": 16,
   "metadata": {
    "jupyter": {
     "source_hidden": true
    }
   },
   "outputs": [
    {
     "data": {
      "text/html": [
       "<div>\n",
       "<style scoped>\n",
       "    .dataframe tbody tr th:only-of-type {\n",
       "        vertical-align: middle;\n",
       "    }\n",
       "\n",
       "    .dataframe tbody tr th {\n",
       "        vertical-align: top;\n",
       "    }\n",
       "\n",
       "    .dataframe thead th {\n",
       "        text-align: right;\n",
       "    }\n",
       "</style>\n",
       "<table border=\"1\" class=\"dataframe\">\n",
       "  <thead>\n",
       "    <tr style=\"text-align: right;\">\n",
       "      <th></th>\n",
       "      <th>Микрокюри</th>\n",
       "    </tr>\n",
       "    <tr>\n",
       "      <th>POS</th>\n",
       "      <th></th>\n",
       "    </tr>\n",
       "  </thead>\n",
       "  <tbody>\n",
       "    <tr>\n",
       "      <th>1</th>\n",
       "      <td>0.009277</td>\n",
       "    </tr>\n",
       "    <tr>\n",
       "      <th>2</th>\n",
       "      <td>0.009115</td>\n",
       "    </tr>\n",
       "    <tr>\n",
       "      <th>3</th>\n",
       "      <td>0.008685</td>\n",
       "    </tr>\n",
       "    <tr>\n",
       "      <th>4</th>\n",
       "      <td>0.008983</td>\n",
       "    </tr>\n",
       "  </tbody>\n",
       "</table>\n",
       "</div>"
      ],
      "text/plain": [
       "     Микрокюри\n",
       "POS           \n",
       "1     0.009277\n",
       "2     0.009115\n",
       "3     0.008685\n",
       "4     0.008983"
      ]
     },
     "execution_count": 16,
     "metadata": {},
     "output_type": "execute_result"
    }
   ],
   "source": [
    "# Активность водорода в микрокюри:\n",
    "pd.DataFrame(h_kur).rename(columns={'DPM':'Микрокюри'})"
   ]
  },
  {
   "cell_type": "markdown",
   "metadata": {},
   "source": [
    "# Задача № 3\n",
    "## Измерение радиоактивности с использованием жидкостных сцинтилляционных счетчиков (двойная метка)"
   ]
  },
  {
   "cell_type": "code",
   "execution_count": 17,
   "metadata": {},
   "outputs": [
    {
     "data": {
      "text/html": [
       "<div>\n",
       "<style scoped>\n",
       "    .dataframe tbody tr th:only-of-type {\n",
       "        vertical-align: middle;\n",
       "    }\n",
       "\n",
       "    .dataframe tbody tr th {\n",
       "        vertical-align: top;\n",
       "    }\n",
       "\n",
       "    .dataframe thead th {\n",
       "        text-align: right;\n",
       "    }\n",
       "</style>\n",
       "<table border=\"1\" class=\"dataframe\">\n",
       "  <thead>\n",
       "    <tr style=\"text-align: right;\">\n",
       "      <th></th>\n",
       "      <th>Count Time</th>\n",
       "      <th>CPMA</th>\n",
       "      <th>CPMB</th>\n",
       "      <th>tSIE</th>\n",
       "    </tr>\n",
       "    <tr>\n",
       "      <th>#</th>\n",
       "      <th></th>\n",
       "      <th></th>\n",
       "      <th></th>\n",
       "      <th></th>\n",
       "    </tr>\n",
       "  </thead>\n",
       "  <tbody>\n",
       "    <tr>\n",
       "      <th>1</th>\n",
       "      <td>1</td>\n",
       "      <td>10417</td>\n",
       "      <td>266</td>\n",
       "      <td>677.39</td>\n",
       "    </tr>\n",
       "    <tr>\n",
       "      <th>2</th>\n",
       "      <td>1</td>\n",
       "      <td>9476</td>\n",
       "      <td>139</td>\n",
       "      <td>503.17</td>\n",
       "    </tr>\n",
       "    <tr>\n",
       "      <th>3</th>\n",
       "      <td>1</td>\n",
       "      <td>6784</td>\n",
       "      <td>112</td>\n",
       "      <td>321.57</td>\n",
       "    </tr>\n",
       "    <tr>\n",
       "      <th>4</th>\n",
       "      <td>1</td>\n",
       "      <td>4761</td>\n",
       "      <td>90</td>\n",
       "      <td>219.49</td>\n",
       "    </tr>\n",
       "    <tr>\n",
       "      <th>5</th>\n",
       "      <td>1</td>\n",
       "      <td>3475</td>\n",
       "      <td>57</td>\n",
       "      <td>166.39</td>\n",
       "    </tr>\n",
       "    <tr>\n",
       "      <th>6</th>\n",
       "      <td>1</td>\n",
       "      <td>2288</td>\n",
       "      <td>32</td>\n",
       "      <td>116.01</td>\n",
       "    </tr>\n",
       "    <tr>\n",
       "      <th>7</th>\n",
       "      <td>1</td>\n",
       "      <td>1109</td>\n",
       "      <td>4501</td>\n",
       "      <td>681.31</td>\n",
       "    </tr>\n",
       "    <tr>\n",
       "      <th>8</th>\n",
       "      <td>1</td>\n",
       "      <td>1507</td>\n",
       "      <td>4319</td>\n",
       "      <td>509.31</td>\n",
       "    </tr>\n",
       "    <tr>\n",
       "      <th>9</th>\n",
       "      <td>1</td>\n",
       "      <td>2190</td>\n",
       "      <td>3212</td>\n",
       "      <td>318.97</td>\n",
       "    </tr>\n",
       "    <tr>\n",
       "      <th>10</th>\n",
       "      <td>1</td>\n",
       "      <td>3286</td>\n",
       "      <td>2194</td>\n",
       "      <td>200.40</td>\n",
       "    </tr>\n",
       "    <tr>\n",
       "      <th>11</th>\n",
       "      <td>1</td>\n",
       "      <td>3894</td>\n",
       "      <td>1609</td>\n",
       "      <td>164.74</td>\n",
       "    </tr>\n",
       "    <tr>\n",
       "      <th>12</th>\n",
       "      <td>1</td>\n",
       "      <td>4384</td>\n",
       "      <td>529</td>\n",
       "      <td>114.37</td>\n",
       "    </tr>\n",
       "    <tr>\n",
       "      <th>13</th>\n",
       "      <td>1</td>\n",
       "      <td>11953</td>\n",
       "      <td>5349</td>\n",
       "      <td>320.57</td>\n",
       "    </tr>\n",
       "    <tr>\n",
       "      <th>14</th>\n",
       "      <td>1</td>\n",
       "      <td>11838</td>\n",
       "      <td>5322</td>\n",
       "      <td>317.18</td>\n",
       "    </tr>\n",
       "  </tbody>\n",
       "</table>\n",
       "</div>"
      ],
      "text/plain": [
       "    Count Time   CPMA  CPMB    tSIE\n",
       "#                                  \n",
       "1            1  10417   266  677.39\n",
       "2            1   9476   139  503.17\n",
       "3            1   6784   112  321.57\n",
       "4            1   4761    90  219.49\n",
       "5            1   3475    57  166.39\n",
       "6            1   2288    32  116.01\n",
       "7            1   1109  4501  681.31\n",
       "8            1   1507  4319  509.31\n",
       "9            1   2190  3212  318.97\n",
       "10           1   3286  2194  200.40\n",
       "11           1   3894  1609  164.74\n",
       "12           1   4384   529  114.37\n",
       "13           1  11953  5349  320.57\n",
       "14           1  11838  5322  317.18"
      ]
     },
     "execution_count": 17,
     "metadata": {},
     "output_type": "execute_result"
    }
   ],
   "source": [
    "obsh_df = pd.DataFrame.from_dict({'#':[1,2,3,4,5,6,7,8,9,10,11,12,13,14], 'Count Time':[1,1,1,1,1,1,1,1,1,1,1,1,1,1], 'CPMA':[10417,9476,6784,4761,3475,2288,1109,1507,2190,3286,3894,4384,11953,11838], 'CPMB':[266,139,112,90,57,32,4501,4319,3212,2194,1609,529,5349,5322], 'tSIE':[677.39,503.17,321.57,219.49,166.39,116.01,681.31,509.31,318.97,200.4,164.74,114.37,320.57,317.18]}).set_index('#')\n",
    "obsh_df"
   ]
  },
  {
   "cell_type": "markdown",
   "metadata": {},
   "source": [
    "Пробы 1-12 приготовлены для построения калибровочных кривых гашения. Пробы 1-6 содержат только 3H пробы 7-12 содержат только 14C.   \n",
    "DPM3H = 20150   \n",
    "DPM14C = 6239   \n",
    "Пробы 13,14 -пробы, содержащие двойную метку, в которых надо определить активность 3H и 14С"
   ]
  },
  {
   "cell_type": "markdown",
   "metadata": {},
   "source": [
    "Таблица для построения калибровочной кривой по 3H:"
   ]
  },
  {
   "cell_type": "code",
   "execution_count": 18,
   "metadata": {},
   "outputs": [
    {
     "data": {
      "text/html": [
       "<div>\n",
       "<style scoped>\n",
       "    .dataframe tbody tr th:only-of-type {\n",
       "        vertical-align: middle;\n",
       "    }\n",
       "\n",
       "    .dataframe tbody tr th {\n",
       "        vertical-align: top;\n",
       "    }\n",
       "\n",
       "    .dataframe thead th {\n",
       "        text-align: right;\n",
       "    }\n",
       "</style>\n",
       "<table border=\"1\" class=\"dataframe\">\n",
       "  <thead>\n",
       "    <tr style=\"text-align: right;\">\n",
       "      <th></th>\n",
       "      <th>CPMA</th>\n",
       "      <th>E1</th>\n",
       "      <th>CPMB</th>\n",
       "      <th>E2</th>\n",
       "      <th>tSIE</th>\n",
       "    </tr>\n",
       "    <tr>\n",
       "      <th>#</th>\n",
       "      <th></th>\n",
       "      <th></th>\n",
       "      <th></th>\n",
       "      <th></th>\n",
       "      <th></th>\n",
       "    </tr>\n",
       "  </thead>\n",
       "  <tbody>\n",
       "    <tr>\n",
       "      <th>1</th>\n",
       "      <td>10417</td>\n",
       "      <td>0.52</td>\n",
       "      <td>266</td>\n",
       "      <td>0.01</td>\n",
       "      <td>677.39</td>\n",
       "    </tr>\n",
       "    <tr>\n",
       "      <th>2</th>\n",
       "      <td>9476</td>\n",
       "      <td>0.47</td>\n",
       "      <td>139</td>\n",
       "      <td>0.01</td>\n",
       "      <td>503.17</td>\n",
       "    </tr>\n",
       "    <tr>\n",
       "      <th>3</th>\n",
       "      <td>6784</td>\n",
       "      <td>0.34</td>\n",
       "      <td>112</td>\n",
       "      <td>0.01</td>\n",
       "      <td>321.57</td>\n",
       "    </tr>\n",
       "    <tr>\n",
       "      <th>4</th>\n",
       "      <td>4761</td>\n",
       "      <td>0.24</td>\n",
       "      <td>90</td>\n",
       "      <td>0.00</td>\n",
       "      <td>219.49</td>\n",
       "    </tr>\n",
       "    <tr>\n",
       "      <th>5</th>\n",
       "      <td>3475</td>\n",
       "      <td>0.17</td>\n",
       "      <td>57</td>\n",
       "      <td>0.00</td>\n",
       "      <td>166.39</td>\n",
       "    </tr>\n",
       "    <tr>\n",
       "      <th>6</th>\n",
       "      <td>2288</td>\n",
       "      <td>0.11</td>\n",
       "      <td>32</td>\n",
       "      <td>0.00</td>\n",
       "      <td>116.01</td>\n",
       "    </tr>\n",
       "  </tbody>\n",
       "</table>\n",
       "</div>"
      ],
      "text/plain": [
       "    CPMA    E1  CPMB    E2    tSIE\n",
       "#                                 \n",
       "1  10417  0.52   266  0.01  677.39\n",
       "2   9476  0.47   139  0.01  503.17\n",
       "3   6784  0.34   112  0.01  321.57\n",
       "4   4761  0.24    90  0.00  219.49\n",
       "5   3475  0.17    57  0.00  166.39\n",
       "6   2288  0.11    32  0.00  116.01"
      ]
     },
     "execution_count": 18,
     "metadata": {},
     "output_type": "execute_result"
    }
   ],
   "source": [
    "# Таблица для построения калибровочной кривой по 3H:\n",
    "h_table = obsh_df[['CPMA']][0:6]\n",
    "h_table['E1'] = h_table['CPMA'] / 20150 # эффективность в первом окне\n",
    "h_table['CPMB'] = obsh_df['CPMB'][0:6]\n",
    "h_table['E2'] = h_table['CPMB'] / 20150 # во втором\n",
    "h_table['tSIE'] = obsh_df['tSIE'][0:6]\n",
    "round(h_table,2)"
   ]
  },
  {
   "cell_type": "markdown",
   "metadata": {},
   "source": [
    "Таблица для построения калибровочной кривой по 14C:"
   ]
  },
  {
   "cell_type": "code",
   "execution_count": 19,
   "metadata": {},
   "outputs": [
    {
     "data": {
      "text/html": [
       "<div>\n",
       "<style scoped>\n",
       "    .dataframe tbody tr th:only-of-type {\n",
       "        vertical-align: middle;\n",
       "    }\n",
       "\n",
       "    .dataframe tbody tr th {\n",
       "        vertical-align: top;\n",
       "    }\n",
       "\n",
       "    .dataframe thead th {\n",
       "        text-align: right;\n",
       "    }\n",
       "</style>\n",
       "<table border=\"1\" class=\"dataframe\">\n",
       "  <thead>\n",
       "    <tr style=\"text-align: right;\">\n",
       "      <th></th>\n",
       "      <th>CPMA</th>\n",
       "      <th>E1</th>\n",
       "      <th>CPMB</th>\n",
       "      <th>E2</th>\n",
       "      <th>tSIE</th>\n",
       "    </tr>\n",
       "    <tr>\n",
       "      <th>#</th>\n",
       "      <th></th>\n",
       "      <th></th>\n",
       "      <th></th>\n",
       "      <th></th>\n",
       "      <th></th>\n",
       "    </tr>\n",
       "  </thead>\n",
       "  <tbody>\n",
       "    <tr>\n",
       "      <th>7</th>\n",
       "      <td>1109</td>\n",
       "      <td>0.18</td>\n",
       "      <td>4501</td>\n",
       "      <td>0.72</td>\n",
       "      <td>681.31</td>\n",
       "    </tr>\n",
       "    <tr>\n",
       "      <th>8</th>\n",
       "      <td>1507</td>\n",
       "      <td>0.24</td>\n",
       "      <td>4319</td>\n",
       "      <td>0.69</td>\n",
       "      <td>509.31</td>\n",
       "    </tr>\n",
       "    <tr>\n",
       "      <th>9</th>\n",
       "      <td>2190</td>\n",
       "      <td>0.35</td>\n",
       "      <td>3212</td>\n",
       "      <td>0.51</td>\n",
       "      <td>318.97</td>\n",
       "    </tr>\n",
       "    <tr>\n",
       "      <th>10</th>\n",
       "      <td>3286</td>\n",
       "      <td>0.53</td>\n",
       "      <td>2194</td>\n",
       "      <td>0.35</td>\n",
       "      <td>200.40</td>\n",
       "    </tr>\n",
       "    <tr>\n",
       "      <th>11</th>\n",
       "      <td>3894</td>\n",
       "      <td>0.62</td>\n",
       "      <td>1609</td>\n",
       "      <td>0.26</td>\n",
       "      <td>164.74</td>\n",
       "    </tr>\n",
       "    <tr>\n",
       "      <th>12</th>\n",
       "      <td>4384</td>\n",
       "      <td>0.70</td>\n",
       "      <td>529</td>\n",
       "      <td>0.08</td>\n",
       "      <td>114.37</td>\n",
       "    </tr>\n",
       "  </tbody>\n",
       "</table>\n",
       "</div>"
      ],
      "text/plain": [
       "    CPMA    E1  CPMB    E2    tSIE\n",
       "#                                 \n",
       "7   1109  0.18  4501  0.72  681.31\n",
       "8   1507  0.24  4319  0.69  509.31\n",
       "9   2190  0.35  3212  0.51  318.97\n",
       "10  3286  0.53  2194  0.35  200.40\n",
       "11  3894  0.62  1609  0.26  164.74\n",
       "12  4384  0.70   529  0.08  114.37"
      ]
     },
     "execution_count": 19,
     "metadata": {},
     "output_type": "execute_result"
    }
   ],
   "source": [
    "# Таблица для построения калибровочной кривой по 14C:\n",
    "c_table = obsh_df[['CPMA']][6:12]\n",
    "c_table['E1'] = c_table['CPMA'] / 6239\n",
    "c_table['CPMB'] = obsh_df['CPMB'][6:12]\n",
    "c_table['E2'] = c_table['CPMB'] / 6239\n",
    "c_table['tSIE'] = obsh_df['tSIE'][6:12]\n",
    "round(c_table,2)"
   ]
  },
  {
   "cell_type": "code",
   "execution_count": 20,
   "metadata": {
    "jupyter": {
     "source_hidden": true
    }
   },
   "outputs": [
    {
     "data": {
      "image/png": "[encoded data removed]",
      "text/plain": [
       "<Figure size 432x288 with 1 Axes>"
      ]
     },
     "metadata": {
      "needs_background": "light"
     },
     "output_type": "display_data"
    }
   ],
   "source": [
    "fig, ax = plt.subplots()\n",
    "plt.plot(h_table['tSIE'], h_table['E1'])\n",
    "plt.plot(h_table['tSIE'], h_table['E2'])\n",
    "plt.plot(c_table['tSIE'], c_table['E1'])\n",
    "plt.plot(c_table['tSIE'], c_table['E2'])\n",
    "plt.xlabel('tSIE')\n",
    "plt.ylabel('E')\n",
    "plt.grid()\n",
    "plt.legend(['3H в окне A', '3H в окне B', '14C в окне A', '14C в окне B'])\n",
    "plt.title('Калибровочные кривые')\n",
    "plt.show()"
   ]
  },
  {
   "cell_type": "markdown",
   "metadata": {},
   "source": [
    "Данные для проб с двойной отметкой:"
   ]
  },
  {
   "cell_type": "code",
   "execution_count": 21,
   "metadata": {},
   "outputs": [
    {
     "data": {
      "text/html": [
       "<div>\n",
       "<style scoped>\n",
       "    .dataframe tbody tr th:only-of-type {\n",
       "        vertical-align: middle;\n",
       "    }\n",
       "\n",
       "    .dataframe tbody tr th {\n",
       "        vertical-align: top;\n",
       "    }\n",
       "\n",
       "    .dataframe thead th {\n",
       "        text-align: right;\n",
       "    }\n",
       "</style>\n",
       "<table border=\"1\" class=\"dataframe\">\n",
       "  <thead>\n",
       "    <tr style=\"text-align: right;\">\n",
       "      <th></th>\n",
       "      <th>CPMA</th>\n",
       "      <th>CPMB</th>\n",
       "      <th>tSIE</th>\n",
       "      <th>E 3H A</th>\n",
       "      <th>E 14C A</th>\n",
       "      <th>E 14C B</th>\n",
       "    </tr>\n",
       "    <tr>\n",
       "      <th>#</th>\n",
       "      <th></th>\n",
       "      <th></th>\n",
       "      <th></th>\n",
       "      <th></th>\n",
       "      <th></th>\n",
       "      <th></th>\n",
       "    </tr>\n",
       "  </thead>\n",
       "  <tbody>\n",
       "    <tr>\n",
       "      <th>13</th>\n",
       "      <td>11953</td>\n",
       "      <td>5349</td>\n",
       "      <td>320.57</td>\n",
       "      <td>0.34</td>\n",
       "      <td>0.37</td>\n",
       "      <td>0.53</td>\n",
       "    </tr>\n",
       "    <tr>\n",
       "      <th>14</th>\n",
       "      <td>11838</td>\n",
       "      <td>5322</td>\n",
       "      <td>317.18</td>\n",
       "      <td>0.34</td>\n",
       "      <td>0.38</td>\n",
       "      <td>0.52</td>\n",
       "    </tr>\n",
       "  </tbody>\n",
       "</table>\n",
       "</div>"
      ],
      "text/plain": [
       "     CPMA  CPMB    tSIE  E 3H A  E 14C A  E 14C B\n",
       "#                                                \n",
       "13  11953  5349  320.57    0.34     0.37     0.53\n",
       "14  11838  5322  317.18    0.34     0.38     0.52"
      ]
     },
     "execution_count": 21,
     "metadata": {},
     "output_type": "execute_result"
    }
   ],
   "source": [
    "# Данные для проб с двойной отметкой:\n",
    "fin_df = obsh_df[['CPMA', 'CPMB', 'tSIE']][12:]\n",
    "X = np.array(h_table['tSIE']).reshape(-1,1)\n",
    "model = make_pipeline(PolynomialFeatures(2), Ridge())\n",
    "model.fit(X, h_table['E1'])\n",
    "fin_df['E 3H A'] = model.predict(np.array(fin_df['tSIE']).reshape(-1,1))\n",
    "X = np.array(c_table['tSIE']).reshape(-1,1)\n",
    "model = make_pipeline(PolynomialFeatures(2), Ridge())\n",
    "model.fit(X, c_table['E1'])\n",
    "fin_df['E 14C A'] = model.predict(np.array(fin_df['tSIE']).reshape(-1,1))\n",
    "model = make_pipeline(PolynomialFeatures(2), Ridge())\n",
    "model.fit(X, c_table['E2'])\n",
    "fin_df['E 14C B'] = model.predict(np.array(fin_df['tSIE']).reshape(-1,1))\n",
    "round(fin_df,2)"
   ]
  },
  {
   "cell_type": "markdown",
   "metadata": {},
   "source": [
    "Истинная активность 14C:"
   ]
  },
  {
   "cell_type": "code",
   "execution_count": 22,
   "metadata": {},
   "outputs": [
    {
     "data": {
      "text/html": [
       "<div>\n",
       "<style scoped>\n",
       "    .dataframe tbody tr th:only-of-type {\n",
       "        vertical-align: middle;\n",
       "    }\n",
       "\n",
       "    .dataframe tbody tr th {\n",
       "        vertical-align: top;\n",
       "    }\n",
       "\n",
       "    .dataframe thead th {\n",
       "        text-align: right;\n",
       "    }\n",
       "</style>\n",
       "<table border=\"1\" class=\"dataframe\">\n",
       "  <thead>\n",
       "    <tr style=\"text-align: right;\">\n",
       "      <th></th>\n",
       "      <th>dpmc</th>\n",
       "    </tr>\n",
       "    <tr>\n",
       "      <th>#</th>\n",
       "      <th></th>\n",
       "    </tr>\n",
       "  </thead>\n",
       "  <tbody>\n",
       "    <tr>\n",
       "      <th>13</th>\n",
       "      <td>10131.73</td>\n",
       "    </tr>\n",
       "    <tr>\n",
       "      <th>14</th>\n",
       "      <td>10175.73</td>\n",
       "    </tr>\n",
       "  </tbody>\n",
       "</table>\n",
       "</div>"
      ],
      "text/plain": [
       "        dpmc\n",
       "#           \n",
       "13  10131.73\n",
       "14  10175.73"
      ]
     },
     "execution_count": 22,
     "metadata": {},
     "output_type": "execute_result"
    }
   ],
   "source": [
    "# Истинная активность 14C:\n",
    "dpmc = fin_df['CPMB'] / fin_df['E 14C B']\n",
    "round(pd.DataFrame(dpmc).rename(columns={0:'dpmc'}),2)"
   ]
  },
  {
   "cell_type": "markdown",
   "metadata": {},
   "source": [
    "Скорость счета 14 C:"
   ]
  },
  {
   "cell_type": "code",
   "execution_count": 23,
   "metadata": {},
   "outputs": [
    {
     "data": {
      "text/html": [
       "<div>\n",
       "<style scoped>\n",
       "    .dataframe tbody tr th:only-of-type {\n",
       "        vertical-align: middle;\n",
       "    }\n",
       "\n",
       "    .dataframe tbody tr th {\n",
       "        vertical-align: top;\n",
       "    }\n",
       "\n",
       "    .dataframe thead th {\n",
       "        text-align: right;\n",
       "    }\n",
       "</style>\n",
       "<table border=\"1\" class=\"dataframe\">\n",
       "  <thead>\n",
       "    <tr style=\"text-align: right;\">\n",
       "      <th></th>\n",
       "      <th>0</th>\n",
       "    </tr>\n",
       "    <tr>\n",
       "      <th>#</th>\n",
       "      <th></th>\n",
       "    </tr>\n",
       "  </thead>\n",
       "  <tbody>\n",
       "    <tr>\n",
       "      <th>13</th>\n",
       "      <td>3768.66</td>\n",
       "    </tr>\n",
       "    <tr>\n",
       "      <th>14</th>\n",
       "      <td>3826.55</td>\n",
       "    </tr>\n",
       "  </tbody>\n",
       "</table>\n",
       "</div>"
      ],
      "text/plain": [
       "          0\n",
       "#          \n",
       "13  3768.66\n",
       "14  3826.55"
      ]
     },
     "execution_count": 23,
     "metadata": {},
     "output_type": "execute_result"
    }
   ],
   "source": [
    "# Скорость счета 14 C:\n",
    "cpmc14ca = dpmc * fin_df['E 14C A']\n",
    "round(pd.DataFrame(cpmc14ca), 2)"
   ]
  },
  {
   "cell_type": "markdown",
   "metadata": {},
   "source": [
    "Скорость счета 3H в 3H-канале:"
   ]
  },
  {
   "cell_type": "code",
   "execution_count": 24,
   "metadata": {
    "jupyter": {
     "source_hidden": true
    }
   },
   "outputs": [
    {
     "data": {
      "text/html": [
       "<div>\n",
       "<style scoped>\n",
       "    .dataframe tbody tr th:only-of-type {\n",
       "        vertical-align: middle;\n",
       "    }\n",
       "\n",
       "    .dataframe tbody tr th {\n",
       "        vertical-align: top;\n",
       "    }\n",
       "\n",
       "    .dataframe thead th {\n",
       "        text-align: right;\n",
       "    }\n",
       "</style>\n",
       "<table border=\"1\" class=\"dataframe\">\n",
       "  <thead>\n",
       "    <tr style=\"text-align: right;\">\n",
       "      <th></th>\n",
       "      <th>0</th>\n",
       "    </tr>\n",
       "    <tr>\n",
       "      <th>#</th>\n",
       "      <th></th>\n",
       "    </tr>\n",
       "  </thead>\n",
       "  <tbody>\n",
       "    <tr>\n",
       "      <th>13</th>\n",
       "      <td>8184.34</td>\n",
       "    </tr>\n",
       "    <tr>\n",
       "      <th>14</th>\n",
       "      <td>8011.45</td>\n",
       "    </tr>\n",
       "  </tbody>\n",
       "</table>\n",
       "</div>"
      ],
      "text/plain": [
       "          0\n",
       "#          \n",
       "13  8184.34\n",
       "14  8011.45"
      ]
     },
     "execution_count": 24,
     "metadata": {},
     "output_type": "execute_result"
    }
   ],
   "source": [
    "# Скорость счета 3H в 3H-канале:\n",
    "cpm3ha = fin_df['CPMA'] - cpmc14ca\n",
    "round(pd.DataFrame(cpm3ha),2)"
   ]
  },
  {
   "cell_type": "markdown",
   "metadata": {},
   "source": [
    "Истинная активность 3H:"
   ]
  },
  {
   "cell_type": "code",
   "execution_count": 25,
   "metadata": {
    "jupyter": {
     "source_hidden": true
    }
   },
   "outputs": [
    {
     "data": {
      "text/html": [
       "<div>\n",
       "<style scoped>\n",
       "    .dataframe tbody tr th:only-of-type {\n",
       "        vertical-align: middle;\n",
       "    }\n",
       "\n",
       "    .dataframe tbody tr th {\n",
       "        vertical-align: top;\n",
       "    }\n",
       "\n",
       "    .dataframe thead th {\n",
       "        text-align: right;\n",
       "    }\n",
       "</style>\n",
       "<table border=\"1\" class=\"dataframe\">\n",
       "  <thead>\n",
       "    <tr style=\"text-align: right;\">\n",
       "      <th></th>\n",
       "      <th>0</th>\n",
       "    </tr>\n",
       "    <tr>\n",
       "      <th>#</th>\n",
       "      <th></th>\n",
       "    </tr>\n",
       "  </thead>\n",
       "  <tbody>\n",
       "    <tr>\n",
       "      <th>13</th>\n",
       "      <td>24165.78</td>\n",
       "    </tr>\n",
       "    <tr>\n",
       "      <th>14</th>\n",
       "      <td>23869.73</td>\n",
       "    </tr>\n",
       "  </tbody>\n",
       "</table>\n",
       "</div>"
      ],
      "text/plain": [
       "           0\n",
       "#           \n",
       "13  24165.78\n",
       "14  23869.73"
      ]
     },
     "execution_count": 25,
     "metadata": {},
     "output_type": "execute_result"
    }
   ],
   "source": [
    "# Истинная активность 3H:\n",
    "dpmh = cpm3ha / fin_df['E 3H A']\n",
    "round(pd.DataFrame(dpmh),2)"
   ]
  },
  {
   "cell_type": "markdown",
   "metadata": {},
   "source": [
    "Истинное значение 14c в бекеррелях:"
   ]
  },
  {
   "cell_type": "code",
   "execution_count": 26,
   "metadata": {},
   "outputs": [
    {
     "data": {
      "text/html": [
       "<div>\n",
       "<style scoped>\n",
       "    .dataframe tbody tr th:only-of-type {\n",
       "        vertical-align: middle;\n",
       "    }\n",
       "\n",
       "    .dataframe tbody tr th {\n",
       "        vertical-align: top;\n",
       "    }\n",
       "\n",
       "    .dataframe thead th {\n",
       "        text-align: right;\n",
       "    }\n",
       "</style>\n",
       "<table border=\"1\" class=\"dataframe\">\n",
       "  <thead>\n",
       "    <tr style=\"text-align: right;\">\n",
       "      <th></th>\n",
       "      <th>Бекеррели</th>\n",
       "    </tr>\n",
       "    <tr>\n",
       "      <th>#</th>\n",
       "      <th></th>\n",
       "    </tr>\n",
       "  </thead>\n",
       "  <tbody>\n",
       "    <tr>\n",
       "      <th>13</th>\n",
       "      <td>168.86</td>\n",
       "    </tr>\n",
       "    <tr>\n",
       "      <th>14</th>\n",
       "      <td>169.60</td>\n",
       "    </tr>\n",
       "  </tbody>\n",
       "</table>\n",
       "</div>"
      ],
      "text/plain": [
       "    Бекеррели\n",
       "#            \n",
       "13     168.86\n",
       "14     169.60"
      ]
     },
     "execution_count": 26,
     "metadata": {},
     "output_type": "execute_result"
    }
   ],
   "source": [
    "# Истинное значение 14c в бекеррелях:\n",
    "round(pd.DataFrame(dpmc/60).rename(columns={0:'Бекеррели'}),2)"
   ]
  },
  {
   "cell_type": "markdown",
   "metadata": {},
   "source": [
    "Истинное значение 14c в микрокюри:"
   ]
  },
  {
   "cell_type": "code",
   "execution_count": 27,
   "metadata": {},
   "outputs": [
    {
     "data": {
      "text/html": [
       "<div>\n",
       "<style scoped>\n",
       "    .dataframe tbody tr th:only-of-type {\n",
       "        vertical-align: middle;\n",
       "    }\n",
       "\n",
       "    .dataframe tbody tr th {\n",
       "        vertical-align: top;\n",
       "    }\n",
       "\n",
       "    .dataframe thead th {\n",
       "        text-align: right;\n",
       "    }\n",
       "</style>\n",
       "<table border=\"1\" class=\"dataframe\">\n",
       "  <thead>\n",
       "    <tr style=\"text-align: right;\">\n",
       "      <th></th>\n",
       "      <th>Микрокюри</th>\n",
       "    </tr>\n",
       "    <tr>\n",
       "      <th>#</th>\n",
       "      <th></th>\n",
       "    </tr>\n",
       "  </thead>\n",
       "  <tbody>\n",
       "    <tr>\n",
       "      <th>13</th>\n",
       "      <td>0.004564</td>\n",
       "    </tr>\n",
       "    <tr>\n",
       "      <th>14</th>\n",
       "      <td>0.004584</td>\n",
       "    </tr>\n",
       "  </tbody>\n",
       "</table>\n",
       "</div>"
      ],
      "text/plain": [
       "    Микрокюри\n",
       "#            \n",
       "13   0.004564\n",
       "14   0.004584"
      ]
     },
     "execution_count": 27,
     "metadata": {},
     "output_type": "execute_result"
    }
   ],
   "source": [
    "# Истинное значение 14c в микрокюри:\n",
    "pd.DataFrame((dpmc/60) / (3.7 * 10 ** 4)).rename(columns={0:'Микрокюри'})"
   ]
  },
  {
   "cell_type": "markdown",
   "metadata": {},
   "source": [
    "Истинное значение 3H в бекеррелях:"
   ]
  },
  {
   "cell_type": "code",
   "execution_count": 28,
   "metadata": {
    "jupyter": {
     "source_hidden": true
    }
   },
   "outputs": [
    {
     "data": {
      "text/html": [
       "<div>\n",
       "<style scoped>\n",
       "    .dataframe tbody tr th:only-of-type {\n",
       "        vertical-align: middle;\n",
       "    }\n",
       "\n",
       "    .dataframe tbody tr th {\n",
       "        vertical-align: top;\n",
       "    }\n",
       "\n",
       "    .dataframe thead th {\n",
       "        text-align: right;\n",
       "    }\n",
       "</style>\n",
       "<table border=\"1\" class=\"dataframe\">\n",
       "  <thead>\n",
       "    <tr style=\"text-align: right;\">\n",
       "      <th></th>\n",
       "      <th>Бекеррели</th>\n",
       "    </tr>\n",
       "    <tr>\n",
       "      <th>#</th>\n",
       "      <th></th>\n",
       "    </tr>\n",
       "  </thead>\n",
       "  <tbody>\n",
       "    <tr>\n",
       "      <th>13</th>\n",
       "      <td>402.76</td>\n",
       "    </tr>\n",
       "    <tr>\n",
       "      <th>14</th>\n",
       "      <td>397.83</td>\n",
       "    </tr>\n",
       "  </tbody>\n",
       "</table>\n",
       "</div>"
      ],
      "text/plain": [
       "    Бекеррели\n",
       "#            \n",
       "13     402.76\n",
       "14     397.83"
      ]
     },
     "execution_count": 28,
     "metadata": {},
     "output_type": "execute_result"
    }
   ],
   "source": [
    "# Истинное значение 3H в бекеррелях:\n",
    "round(pd.DataFrame(dpmh/60).rename(columns={0:'Бекеррели'}),2)"
   ]
  },
  {
   "cell_type": "markdown",
   "metadata": {},
   "source": [
    "Истинное значение 3H в микрокюри:"
   ]
  },
  {
   "cell_type": "code",
   "execution_count": 29,
   "metadata": {},
   "outputs": [
    {
     "data": {
      "text/html": [
       "<div>\n",
       "<style scoped>\n",
       "    .dataframe tbody tr th:only-of-type {\n",
       "        vertical-align: middle;\n",
       "    }\n",
       "\n",
       "    .dataframe tbody tr th {\n",
       "        vertical-align: top;\n",
       "    }\n",
       "\n",
       "    .dataframe thead th {\n",
       "        text-align: right;\n",
       "    }\n",
       "</style>\n",
       "<table border=\"1\" class=\"dataframe\">\n",
       "  <thead>\n",
       "    <tr style=\"text-align: right;\">\n",
       "      <th></th>\n",
       "      <th>Микрокюри</th>\n",
       "    </tr>\n",
       "    <tr>\n",
       "      <th>#</th>\n",
       "      <th></th>\n",
       "    </tr>\n",
       "  </thead>\n",
       "  <tbody>\n",
       "    <tr>\n",
       "      <th>13</th>\n",
       "      <td>0.010885</td>\n",
       "    </tr>\n",
       "    <tr>\n",
       "      <th>14</th>\n",
       "      <td>0.010752</td>\n",
       "    </tr>\n",
       "  </tbody>\n",
       "</table>\n",
       "</div>"
      ],
      "text/plain": [
       "    Микрокюри\n",
       "#            \n",
       "13   0.010885\n",
       "14   0.010752"
      ]
     },
     "execution_count": 29,
     "metadata": {},
     "output_type": "execute_result"
    }
   ],
   "source": [
    "# Истинное значение 3H в микрокюри:\n",
    "pd.DataFrame((dpmh/60) / (3.7 * 10 ** 4)).rename(columns={0:'Микрокюри'})"
   ]
  },
  {
   "cell_type": "markdown",
   "metadata": {},
   "source": [
    "1) 2 изотопа в одной пробе можно определить только если в одном из окон в одной из серий экспериментов присутствие одного из изотопов было бы статистически незначительным"
   ]
  },
  {
   "cell_type": "markdown",
   "metadata": {},
   "source": [
    "2) Это происходит из-за специфической настройки окон"
   ]
  }
 ],
 "metadata": {
  "kernelspec": {
   "display_name": "Python 3",
   "language": "python",
   "name": "python3"
  },
  "language_info": {
   "codemirror_mode": {
    "name": "ipython",
    "version": 3
   },
   "file_extension": ".py",
   "mimetype": "text/x-python",
   "name": "python",
   "nbconvert_exporter": "python",
   "pygments_lexer": "ipython3",
   "version": "3.8.3"
  }
 },
 "nbformat": 4,
 "nbformat_minor": 4
}
