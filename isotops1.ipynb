{
 "cells": [
  {
   "cell_type": "markdown",
   "metadata": {},
   "source": [
    "# Задача № 1\n",
    "## Измерение радиоактивности счетчиками Гейгера-Мюллера\n",
    "#### Выполнил студент 320 группы Чичварин Владимир"
   ]
  },
  {
   "cell_type": "markdown",
   "metadata": {},
   "source": [
    "***Задание 1 Определение истинной активности радиоактивных препаратов методом расчета поправок***"
   ]
  },
  {
   "cell_type": "markdown",
   "metadata": {},
   "source": [
    "Условия выполнения задания:\n",
    "* используем цилиндрический счетчик СТС-6 (рабочая длина счетчика 2L=15см;радиус счетчика r=0,9см)\n",
    "* 32Р−простой β−излучатель с Емакс=1,7МэВ\n",
    "* объем пробы−100мкл.\n",
    "* время счета проб 50сек\n",
    "* счет фона Nф,измеренный трижды при выбранном рабочем напряжении,за 50 сек:49имп/сек; 55имп/сек; 52имп/сек"
   ]
  },
  {
   "cell_type": "markdown",
   "metadata": {},
   "source": [
    "данные скорости счета 5 образцов 32Р после высушивания(образцы приготовлены в чашечках из алюминиевой фольги),время счета 50 сек..N(имп/50сек):   \n",
    "   [1457, 1438, 1459, 1444, 1397]"
   ]
  },
  {
   "cell_type": "markdown",
   "metadata": {},
   "source": [
    "Определить истинную активность 32Р( вмкКюри/мл) ,если расстояние от препарата до стенки счетчика (для каждого студента определенное расстояние) = 2.3 (см)"
   ]
  },
  {
   "cell_type": "code",
   "execution_count": 1,
   "metadata": {},
   "outputs": [],
   "source": [
    "import sympy as s\n",
    "from sympy import *\n",
    "from numpy import arcsin\n",
    "from numpy import degrees\n",
    "import pandas as pd\n",
    "import numpy as np\n",
    "E = s.Symbol('E')\n",
    "w = s.Symbol('w')\n",
    "f = s.Symbol('f')\n",
    "k = s.Symbol('k')\n",
    "q = s.Symbol('q')\n",
    "p = s.Symbol('p')\n",
    "y = s.Symbol('y')\n",
    "a = s.Symbol('a')\n",
    "L = s.Symbol('L')\n",
    "h = s.Symbol('h')\n",
    "A = s.Symbol('A')\n",
    "No = s.Symbol('No')\n",
    "lchet = s.Symbol('lchet')\n",
    "lvozd = s.Symbol('lvozd')"
   ]
  },
  {
   "cell_type": "code",
   "execution_count": 2,
   "metadata": {},
   "outputs": [],
   "source": [
    "# Истинная активность\n",
    "A = No/E"
   ]
  },
  {
   "cell_type": "markdown",
   "metadata": {},
   "source": [
    "A - истинная активность, No - скорость счета препарата, E - эффективность счета"
   ]
  },
  {
   "cell_type": "code",
   "execution_count": 3,
   "metadata": {},
   "outputs": [],
   "source": [
    "# Эффективность счета\n",
    "E = w * f * k * p * y"
   ]
  },
  {
   "cell_type": "code",
   "execution_count": 17,
   "metadata": {},
   "outputs": [
    {
     "data": {
      "text/latex": [
       "$\\displaystyle 0.083$"
      ],
      "text/plain": [
       "0.083"
      ]
     },
     "execution_count": 17,
     "metadata": {},
     "output_type": "execute_result"
    }
   ],
   "source": [
    "# Поправка на геометрию w\n",
    "w = a*L/(180*sqrt(h**2 + L**2))\n",
    "r = 0.9\n",
    "h = 2.3 + 0.9\n",
    "sina = 0.9 / h \n",
    "arcsina = arcsin(sina)\n",
    "degree = degrees(arcsina)\n",
    "L = 15\n",
    "w = degree*(L/2)/(180*sqrt(h**2 + (L/2) ** 2))\n",
    "round(w,3)"
   ]
  },
  {
   "cell_type": "code",
   "execution_count": 20,
   "metadata": {},
   "outputs": [
    {
     "data": {
      "text/latex": [
       "$\\displaystyle 0.45$"
      ],
      "text/plain": [
       "0.45"
      ]
     },
     "execution_count": 20,
     "metadata": {},
     "output_type": "execute_result"
    }
   ],
   "source": [
    "# Поправка на поглощение f\n",
    "lef = 2*lchet * lvozd\n",
    "delta = 90\n",
    "lef = 2* 50 + 2.3 *1.239\n",
    "f = exp(-0.693*lef/delta)\n",
    "round(f,2)"
   ]
  },
  {
   "cell_type": "code",
   "execution_count": 6,
   "metadata": {},
   "outputs": [],
   "source": [
    "# поправка на обратное рассеяние\n",
    "q = 1.3 # так как алюминиевая подложка"
   ]
  },
  {
   "cell_type": "markdown",
   "metadata": {},
   "source": [
    "Остальные члены возьмем равными единице так как у нас простой счетчик"
   ]
  },
  {
   "cell_type": "code",
   "execution_count": 22,
   "metadata": {},
   "outputs": [
    {
     "data": {
      "text/latex": [
       "$\\displaystyle 0.0492$"
      ],
      "text/plain": [
       "0.0492"
      ]
     },
     "execution_count": 22,
     "metadata": {},
     "output_type": "execute_result"
    }
   ],
   "source": [
    "E = w * f * q\n",
    "round(E, 4)"
   ]
  },
  {
   "cell_type": "code",
   "execution_count": 16,
   "metadata": {},
   "outputs": [
    {
     "data": {
      "text/plain": [
       "1387"
      ]
     },
     "execution_count": 16,
     "metadata": {},
     "output_type": "execute_result"
    }
   ],
   "source": [
    "No = (1457+1438+1459+1444+1397)/ 5 - (49+55+52)/3\n",
    "round(No)"
   ]
  },
  {
   "cell_type": "code",
   "execution_count": 15,
   "metadata": {},
   "outputs": [
    {
     "data": {
      "text/latex": [
       "$\\displaystyle 28219$"
      ],
      "text/plain": [
       "28219"
      ]
     },
     "execution_count": 15,
     "metadata": {},
     "output_type": "execute_result"
    }
   ],
   "source": [
    "A = No / E\n",
    "round(A)"
   ]
  },
  {
   "cell_type": "code",
   "execution_count": 23,
   "metadata": {},
   "outputs": [
    {
     "data": {
      "text/latex": [
       "$\\displaystyle 564.4$"
      ],
      "text/plain": [
       "564.4"
      ]
     },
     "execution_count": 23,
     "metadata": {},
     "output_type": "execute_result"
    }
   ],
   "source": [
    "# в беккерелях\n",
    "Abek = A / 50\n",
    "round(Abek,1)"
   ]
  },
  {
   "cell_type": "code",
   "execution_count": 26,
   "metadata": {},
   "outputs": [
    {
     "data": {
      "text/latex": [
       "$\\displaystyle 0.01525$"
      ],
      "text/plain": [
       "0.01525"
      ]
     },
     "execution_count": 26,
     "metadata": {},
     "output_type": "execute_result"
    }
   ],
   "source": [
    "# в микрокюри\n",
    "Akur = Abek / (3.7 * 10 ** 4)\n",
    "round(Akur, 5)"
   ]
  },
  {
   "cell_type": "code",
   "execution_count": 24,
   "metadata": {},
   "outputs": [],
   "source": [
    "midx = pd.MultiIndex(levels=[[\n",
    "    'Среднее значение','Расстояние от преп. до стенки счетчика ', 'Поправка на геометрию счета', 'Поправка на поглощение', 'Поправ- ка на обратное рассеяние', 'Эффективность счета', 'Активность препарата'],\n",
    "                    ['Nобр. (имп/50сек) ', 'см', 'w', 'f', 'q', 'E', 'Распады/ 50 сек', 'Бк', 'МкКюри']], codes=[[0,1,2,3,4,5,6,6,6],[0,1,2,3,4,5,6,7,8]])\n",
    "lst = np.array([No,2.3, round(w,3), round(f,2), q, round(E,4), round(A), round(Abek,1), round(Akur,5)]).reshape(1,-1)\n",
    "df = pd.DataFrame(lst, columns=midx)"
   ]
  },
  {
   "cell_type": "code",
   "execution_count": 25,
   "metadata": {},
   "outputs": [
    {
     "data": {
      "text/html": [
       "<div>\n",
       "<style scoped>\n",
       "    .dataframe tbody tr th:only-of-type {\n",
       "        vertical-align: middle;\n",
       "    }\n",
       "\n",
       "    .dataframe tbody tr th {\n",
       "        vertical-align: top;\n",
       "    }\n",
       "\n",
       "    .dataframe thead tr th {\n",
       "        text-align: left;\n",
       "    }\n",
       "</style>\n",
       "<table border=\"1\" class=\"dataframe\">\n",
       "  <thead>\n",
       "    <tr>\n",
       "      <th></th>\n",
       "      <th>Среднее значение</th>\n",
       "      <th>Расстояние от преп. до стенки счетчика</th>\n",
       "      <th>Поправка на геометрию счета</th>\n",
       "      <th>Поправка на поглощение</th>\n",
       "      <th>Поправ- ка на обратное рассеяние</th>\n",
       "      <th>Эффективность счета</th>\n",
       "      <th colspan=\"3\" halign=\"left\">Активность препарата</th>\n",
       "    </tr>\n",
       "    <tr>\n",
       "      <th></th>\n",
       "      <th>Nобр. (имп/50сек)</th>\n",
       "      <th>см</th>\n",
       "      <th>w</th>\n",
       "      <th>f</th>\n",
       "      <th>q</th>\n",
       "      <th>E</th>\n",
       "      <th>Распады/ 50 сек</th>\n",
       "      <th>Бк</th>\n",
       "      <th>МкКюри</th>\n",
       "    </tr>\n",
       "  </thead>\n",
       "  <tbody>\n",
       "    <tr>\n",
       "      <th>0</th>\n",
       "      <td>1387</td>\n",
       "      <td>2.3</td>\n",
       "      <td>0.083</td>\n",
       "      <td>0.45</td>\n",
       "      <td>1.3</td>\n",
       "      <td>0.0492</td>\n",
       "      <td>28219</td>\n",
       "      <td>564.4</td>\n",
       "      <td>0.01525</td>\n",
       "    </tr>\n",
       "  </tbody>\n",
       "</table>\n",
       "</div>"
      ],
      "text/plain": [
       "    Среднее значение Расстояние от преп. до стенки счетчика   \\\n",
       "  Nобр. (имп/50сек)                                       см   \n",
       "0               1387                                     2.3   \n",
       "\n",
       "  Поправка на геометрию счета Поправка на поглощение  \\\n",
       "                            w                      f   \n",
       "0                       0.083                   0.45   \n",
       "\n",
       "  Поправ- ка на обратное рассеяние Эффективность счета Активность препарата  \\\n",
       "                                 q                   E      Распады/ 50 сек   \n",
       "0                              1.3              0.0492                28219   \n",
       "\n",
       "                   \n",
       "      Бк   МкКюри  \n",
       "0  564.4  0.01525  "
      ]
     },
     "execution_count": 25,
     "metadata": {},
     "output_type": "execute_result"
    }
   ],
   "source": [
    "df"
   ]
  },
  {
   "cell_type": "markdown",
   "metadata": {},
   "source": [
    "Активность раствора  = 0.1525 мкКюри/мл"
   ]
  },
  {
   "cell_type": "markdown",
   "metadata": {},
   "source": [
    "Согласно формуле, влияют\n",
    "По абсолютной, потому что она абсолютная"
   ]
  }
 ],
 "metadata": {
  "kernelspec": {
   "display_name": "Python 3",
   "language": "python",
   "name": "python3"
  },
  "language_info": {
   "codemirror_mode": {
    "name": "ipython",
    "version": 3
   },
   "file_extension": ".py",
   "mimetype": "text/x-python",
   "name": "python",
   "nbconvert_exporter": "python",
   "pygments_lexer": "ipython3",
   "version": "3.8.3"
  }
 },
 "nbformat": 4,
 "nbformat_minor": 4
}
